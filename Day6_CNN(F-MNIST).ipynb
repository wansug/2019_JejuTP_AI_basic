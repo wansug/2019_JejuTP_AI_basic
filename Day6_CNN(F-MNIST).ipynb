{
 "cells": [
  {
   "cell_type": "code",
   "execution_count": 1,
   "metadata": {},
   "outputs": [
    {
     "name": "stdout",
     "output_type": "stream",
     "text": [
      "Model: \"sequential\"\n",
      "_________________________________________________________________\n",
      "Layer (type)                 Output Shape              Param #   \n",
      "=================================================================\n",
      "conv2d (Conv2D)              (None, 28, 28, 32)        320       \n",
      "_________________________________________________________________\n",
      "max_pooling2d (MaxPooling2D) (None, 14, 14, 32)        0         \n",
      "_________________________________________________________________\n",
      "conv2d_1 (Conv2D)            (None, 14, 14, 64)        18496     \n",
      "_________________________________________________________________\n",
      "max_pooling2d_1 (MaxPooling2 (None, 7, 7, 64)          0         \n",
      "_________________________________________________________________\n",
      "flatten (Flatten)            (None, 3136)              0         \n",
      "_________________________________________________________________\n",
      "dense (Dense)                (None, 128)               401536    \n",
      "_________________________________________________________________\n",
      "dense_1 (Dense)              (None, 10)                1290      \n",
      "=================================================================\n",
      "Total params: 421,642\n",
      "Trainable params: 421,642\n",
      "Non-trainable params: 0\n",
      "_________________________________________________________________\n"
     ]
    }
   ],
   "source": [
    "\n",
    "%matplotlib inline\n",
    "import numpy as np\n",
    "import matplotlib.pyplot as plt\n",
    "import tensorflow as tf\n",
    "\n",
    "(x_train, y_train),(x_test, y_test) = tf.keras.datasets.fashion_mnist.load_data()\n",
    "\n",
    "labels = ['T-shirt','Trouser','Pullover','Dress','Coat',\n",
    "           'Sandal', 'Shirt', 'Sneaker', 'Bag', 'Ankle boot']\n",
    "\n",
    "x_train = x_train/255.0\n",
    "x_test = x_test/255.0\n",
    "model = tf.keras.Sequential([\n",
    "    tf.keras.layers.Conv2D(32, (3,3), padding='same', activation='relu',\n",
    "                           input_shape=(28, 28,1)),\n",
    "    tf.keras.layers.MaxPooling2D((2, 2), strides=2),\n",
    "    tf.keras.layers.Conv2D(64, (3,3), padding='same', activation='relu'),\n",
    "    tf.keras.layers.MaxPooling2D((2, 2), strides=2),\n",
    "    tf.keras.layers.Flatten(),\n",
    "    tf.keras.layers.Dense(128, activation='relu'),\n",
    "    tf.keras.layers.Dense(10,  activation='softmax')\n",
    "])\n",
    "\n",
    "model.summary()\n",
    "\n",
    "model.compile(optimizer='adam',\n",
    "              loss='sparse_categorical_crossentropy',\n",
    "              metrics=['accuracy'])\n",
    "\n",
    "\n",
    "\n"
   ]
  },
  {
   "cell_type": "code",
   "execution_count": 2,
   "metadata": {},
   "outputs": [
    {
     "name": "stdout",
     "output_type": "stream",
     "text": [
      "Train on 54000 samples, validate on 6000 samples\n",
      "Epoch 1/5\n",
      "54000/54000 [==============================] - 8s 143us/sample - loss: 0.4096 - accuracy: 0.8515 - val_loss: 0.2982 - val_accuracy: 0.8925\n",
      "Epoch 2/5\n",
      "54000/54000 [==============================] - 6s 111us/sample - loss: 0.2660 - accuracy: 0.9030 - val_loss: 0.2774 - val_accuracy: 0.9002\n",
      "Epoch 3/5\n",
      "54000/54000 [==============================] - 6s 110us/sample - loss: 0.2234 - accuracy: 0.9177 - val_loss: 0.2384 - val_accuracy: 0.9098\n",
      "Epoch 4/5\n",
      "54000/54000 [==============================] - 6s 114us/sample - loss: 0.1915 - accuracy: 0.9297 - val_loss: 0.2397 - val_accuracy: 0.9103\n",
      "Epoch 5/5\n",
      "54000/54000 [==============================] - 6s 112us/sample - loss: 0.1624 - accuracy: 0.9404 - val_loss: 0.2224 - val_accuracy: 0.9207\n",
      "10000/1 - 1s - loss: 0.1923 - accuracy: 0.9181\n"
     ]
    },
    {
     "data": {
      "text/plain": [
       "[0.24050701839327812, 0.9181]"
      ]
     },
     "execution_count": 2,
     "metadata": {},
     "output_type": "execute_result"
    }
   ],
   "source": [
    "#모델 학습\n",
    "model.fit(np.expand_dims(x_train[:],axis=-1), y_train[:], validation_split=0.1, epochs= 5)\n",
    "\n",
    "\n"
   ]
  },
  {
   "cell_type": "code",
   "execution_count": 3,
   "metadata": {},
   "outputs": [
    {
     "name": "stdout",
     "output_type": "stream",
     "text": [
      "10000/1 - 1s - loss: 0.1923 - accuracy: 0.9181\n"
     ]
    },
    {
     "data": {
      "text/plain": [
       "[0.24050701839327812, 0.9181]"
      ]
     },
     "execution_count": 3,
     "metadata": {},
     "output_type": "execute_result"
    }
   ],
   "source": [
    "#모델평가\n",
    "model.evaluate(np.expand_dims(x_test,axis=-1),y_test,verbose=2)"
   ]
  },
  {
   "cell_type": "code",
   "execution_count": null,
   "metadata": {},
   "outputs": [],
   "source": []
  }
 ],
 "metadata": {
  "kernelspec": {
   "display_name": "Python 3",
   "language": "python",
   "name": "python3"
  },
  "language_info": {
   "codemirror_mode": {
    "name": "ipython",
    "version": 3
   },
   "file_extension": ".py",
   "mimetype": "text/x-python",
   "name": "python",
   "nbconvert_exporter": "python",
   "pygments_lexer": "ipython3",
   "version": "3.7.4"
  }
 },
 "nbformat": 4,
 "nbformat_minor": 2
}
